{
  "cells": [
    {
      "cell_type": "markdown",
      "metadata": {
        "id": "moeuso_3xMBL"
      },
      "source": [
        "다음 경로를 이용하여 winequality-red.csv를 읽어 red 데이터를 만든다.\n",
        "\n",
        "① ‘red’ 데이터 처음 세줄(3행)을 print 출력하고 열(column)과 행(row)이 각각 몇 개인지 적으시오."
      ]
    },
    {
      "cell_type": "code",
      "execution_count": null,
      "metadata": {
        "id": "zCgMeW1OxEq4"
      },
      "outputs": [],
      "source": [
        "import pandas as pd\n",
        "\n",
        "#'winequality-red.csv' 파일을 인터넷에서 읽어와 'red' 데이터프레임 생성\n",
        "red = pd.read_csv('http://archive.ics.uci.edu/ml/machine-learning-databases/wine-quality/winequality-red.csv', sep=';')\n",
        "\n",
        "print(red.head(3)) #'red' 데이터프레임의 처음 세 줄 출력\n",
        "print()\n",
        "print(\"행: {}\".format(len(red.index))) #열(column)의 개수 출력\n",
        "print(\"열: {}\".format(len(red.columns))) #행(row)의 개수 출력"
      ]
    },
    {
      "cell_type": "markdown",
      "metadata": {
        "id": "ghakjAVzxamK"
      },
      "source": [
        "② 열(column)가운데 임의로 5개만 선택하여 ‘red’ 데이터를 다시 만들고 처음 5행을 print 출력한다."
      ]
    },
    {
      "cell_type": "code",
      "execution_count": null,
      "metadata": {
        "id": "tE3qg4ZCxbtB"
      },
      "outputs": [],
      "source": [
        "import pandas as pd\n",
        "\n",
        "red = pd.read_csv('http://archive.ics.uci.edu/ml/machine-learning-databases/wine-quality/winequality-red.csv', sep=';')\n",
        "\n",
        "selected_columns = [1, 3, 5, 7, 9] #임의로 선택할 열(column) 인덱스\n",
        "red_selected = red.iloc[:, selected_columns] #선택된 열로 새로운 \"red\" 데이터 생성\n",
        "\n",
        "print(red_selected.head()) #처음 5행 출력"
      ]
    },
    {
      "cell_type": "markdown",
      "metadata": {
        "id": "S6IcVIy7xeGR"
      },
      "source": [
        "③ ②번에서 선택한 5개 열 가운데 임의로 한 개를 선택하여 본인 영어이름으로 column name을 바꾸고 이 column을 index로 한다. 처음 5행을 print 출력한다."
      ]
    },
    {
      "cell_type": "code",
      "execution_count": null,
      "metadata": {
        "id": "bJrSA0gXxfRb"
      },
      "outputs": [],
      "source": [
        "import numpy as np\n",
        "import pandas as pd\n",
        "\n",
        "red = pd.read_csv('http://archive.ics.uci.edu/ml/machine-learning-databases/wine-quality/winequality-red.csv', sep=';')\n",
        "\n",
        "selected_columns = [1, 3, 5, 7, 9]              #임의로 선택할 열(column) 인덱스\n",
        "rename_col_index = 2                         #선택할 열(column) 인덱스\n",
        "\n",
        "red = red.iloc[:, selected_columns]              #선택한 열만 포함하는 데이터프레임 생성\n",
        "rename_col = red.columns[rename_col_index]    #선택한 열의 이름 가져오기\n",
        "red.rename(columns={rename_col: 'SeoHyuneun'}, inplace=True)  #열의 이름을 변경\n",
        "red = red.set_index('SeoHyuneun')              #열을 인덱스로 지정\n",
        "print(red.head())"
      ]
    },
    {
      "cell_type": "markdown",
      "metadata": {
        "id": "RY-NrMQExjJm"
      },
      "source": [
        "문제 2>\n",
        "1. column이 3열, row가 5행인 pandas data를 임의로 만든다. 이때, 데이터값은 0~100사이의 임의의 값으로 한다. column name은 임의로 한다. 만들어진 pandas data를 전체 print 출력한다.\n",
        "\n",
        "2. 위 pandas data를 이용하여 다음처럼 split하여 4개의 데이터를 만들고 각각을 전체 print 출력한다. 데이터 이름은 임의로 한다.\n",
        "① 1, 2열, 1, 2, 3행 데이터\n",
        "② 3열, 1, 2, 3행 데이터\n",
        "③ 1, 2열, 4, 5행 데이터\n",
        "④ 3열, 4, 5행 데이터"
      ]
    },
    {
      "cell_type": "code",
      "execution_count": null,
      "metadata": {
        "id": "mt53RFnTxkQn"
      },
      "outputs": [],
      "source": [
        "import pandas as pd\n",
        "\n",
        "num_columns = 3 #column 개수\n",
        "num_rows = 5 #row 개수\n",
        "\n",
        "column_names = ['A', 'B', 'C'] #column 이름 리스트\n",
        "\n",
        "#임의의 값을 가진 데이터프레임 생성\n",
        "data = [\n",
        "    [10, 20, 30],\n",
        "    [40, 50, 60],\n",
        "    [70, 80, 90],\n",
        "    [15, 25, 35],\n",
        "    [45, 55, 65]\n",
        "]\n",
        "\n",
        "df = pd.DataFrame(data, columns=column_names)\n",
        "#1번 (전체 데이터프레임 출력)\n",
        "print(df)\n",
        "print(\"==============\")\n",
        "\n",
        "#2번\n",
        "df_1 = df.iloc[:3,:2]    #열: A,B / 행: (1~3)\n",
        "df_2 = df.iloc[:3,2:3]   #열: C / 행: (1~3)\n",
        "df_3 = df.iloc[3:,:2]    #열: A,B / 행: (4~5)\n",
        "df_4 = df.iloc[3:,2:]    #열: C / 행: (4~5)\n",
        "print(df_1)\n",
        "print(\"--------------\") #구분선\n",
        "print(df_2)\n",
        "print(\"--------------\")\n",
        "print(df_3)\n",
        "print(\"--------------\")\n",
        "print(df_4)"
      ]
    },
    {
      "cell_type": "markdown",
      "metadata": {
        "id": "sm78cW4ZxmVT"
      },
      "source": [
        "3 . 1번의 데이터에서 한 column에 있는 5개 숫자의 합(sum)과 평균(average)를 만든다. 3열에 대하여 각각 수행한다. 이 과정을 for문을 이용하여 코딩한다. 계산된 합과 평균을 2행 3열의 pandas 데이터로 만든다.\n",
        "\n",
        "4. 3번의 합과 평균 pandas 데이터를 1번 pandas 데이터와 결합하여 3열 7행의 새로운 pandas 데이터를 만든다. 이때, pandas의 concat 메서드를 사용한다. 새로운 pandas 전체를 print 출력한다."
      ]
    },
    {
      "cell_type": "code",
      "execution_count": null,
      "metadata": {
        "id": "o5ItqZ0sxnKk"
      },
      "outputs": [],
      "source": [
        "import pandas as pd\n",
        "import numpy as np\n",
        "\n",
        "data = [\n",
        "    [10, 20, 30],\n",
        "    [40, 50, 60],\n",
        "    [70, 80, 90],\n",
        "    [15, 25, 35],\n",
        "    [45, 55, 65]\n",
        "]\n",
        "\n",
        "df = pd.DataFrame(data)\n",
        "\n",
        "result_data = []\n",
        "\n",
        "for col in range(3):\n",
        "    column_sum = df[col].sum() #열의 합 계산\n",
        "    column_avg = df[col].mean() #열의 평균 계산\n",
        "\n",
        "    result_data.append([column_sum, column_avg]) #결과 데이터 추가\n",
        "\n",
        "result_df = pd.DataFrame(result_data) #결과 데이터프레임 생성\n",
        "result_df.columns = ['Sum', 'Average'] #열 이름 설정\n",
        "\n",
        "#3번\n",
        "print(result_df) #결과 출력\n",
        "print(\"=============================\") #구분선\n",
        "\n",
        "#4번\n",
        "#두 개의 데이터프레임을 결합하여 새로운 데이터프레임 생성\n",
        "new_df = pd.concat([df, result_df.T]) #result_df 전치\n",
        "print(new_df)"
      ]
    },
    {
      "cell_type": "markdown",
      "metadata": {
        "id": "lhaxJ1Y0xpBL"
      },
      "source": [
        "문제 3>\n",
        "1. 교재 코드 3-16부터 3-20까지 실행한다. 이때 코드3-17에서 교재와 다른 데이터 이미지 5장을 시각화하여 출력한다. 또한, 코드3-20 결과를 출력한다."
      ]
    },
    {
      "cell_type": "code",
      "execution_count": null,
      "metadata": {
        "id": "zUweNZlgxovK"
      },
      "outputs": [],
      "source": [
        "#코드 3-16\n",
        "#라이브러리 호출 및 데이터 준비\n",
        "%matplotlib inline\n",
        "from sklearn.datasets import load_digits\n",
        "digits = load_digits() #숫자 데이터셋(digits)은 사이킷런에서 제공\n",
        "\n",
        "print(\"Image Data Shape\" , digits.data.shape) #digit 데이터셋의 형태(이미지 1797개, 8x8이미지의 64차원을 가짐)\n",
        "print(\"Label Data Shape\", digits.target.shape) #레이블 이미지 1797개가 있음"
      ]
    },
    {
      "cell_type": "code",
      "execution_count": null,
      "metadata": {
        "id": "lmM_nxPfxtje"
      },
      "outputs": [],
      "source": [
        "#코드 3-17\n",
        "#digits 데이터셋의 시각화\n",
        "import numpy as np\n",
        "import matplotlib.pyplot as plt\n",
        "\n",
        "plt.figure(figsize=(20,4))\n",
        "for index, (image, label) in enumerate(zip(digits.data[6:11], digits.target[6:11])):\n",
        "    plt.subplot(1, 5, index + 1)\n",
        "    plt.imshow(np.reshape(image, (8,8)), cmap=plt.cm.gray)\n",
        "    plt.title('Training: %i\\n' % label, fontsize = 20)"
      ]
    },
    {
      "cell_type": "code",
      "execution_count": null,
      "metadata": {
        "id": "922kqgCnxwS4"
      },
      "outputs": [],
      "source": [
        "#코드 3-18\n",
        "#훈련과 테스트 데이터셋 분리 및 로지스틱 회귀 모델 생성\n",
        "from sklearn.model_selection import train_test_split\n",
        "x_train, x_test, y_train, y_test = train_test_split(digits.data, digits.target, test_size=0.25, random_state=0)\n",
        "\n",
        "from sklearn.linear_model import LogisticRegression\n",
        "logisticRegr = LogisticRegression() #로지스틱 회귀 모델의 인스턴스 생성\n",
        "logisticRegr.fit(x_train, y_train) #모델 훈련"
      ]
    },
    {
      "cell_type": "code",
      "execution_count": null,
      "metadata": {
        "id": "HqglVfj7xynJ"
      },
      "outputs": [],
      "source": [
        "#코드 3-19\n",
        "#일부 데이터를 사용한 모델 예측\n",
        "logisticRegr.predict(x_test[0].reshape(1,-1))\n",
        "logisticRegr.predict(x_test[0:10])"
      ]
    },
    {
      "cell_type": "code",
      "execution_count": null,
      "metadata": {
        "id": "YFldEBrHyRwH"
      },
      "outputs": [],
      "source": [
        "#코드 3-20\n",
        "#전체 데이터를 사용한 모델 예측\n",
        "predictions = logisticRegr.predict(x_test)\n",
        "score = logisticRegr.score(x_test, y_test)\n",
        "print(score)"
      ]
    },
    {
      "cell_type": "markdown",
      "metadata": {
        "id": "38ETp3eEyVrj"
      },
      "source": [
        "2. 테스트 이미지 3장을 PC 그림판에서 아래와 같이 만들고 model.predict(X) 실행하여 3장의 accuracy를 출력한다. --> 코드와 테스트 이미지, accuracy를 제출한다."
      ]
    },
    {
      "cell_type": "code",
      "execution_count": null,
      "metadata": {
        "id": "J7vpUB5ryWZy"
      },
      "outputs": [],
      "source": [
        "import numpy as np\n",
        "import pandas as pd\n",
        "from PIL import Image\n",
        "\n",
        "#이미지 경로 리스트\n",
        "image_paths = ['/content/1.png', '/content/2.png', '/content/3.png']\n",
        "X = []\n",
        "\n",
        "#이미지 경로를 순회하며 이미지 불러오기 및 전처리\n",
        "for path in image_paths:\n",
        "    img = Image.open(path).convert(\"L\")  #이미지 불러오기 및 흑백 변환\n",
        "    img = np.array(img)  #NumPy 배열로 변환\n",
        "    img = img / 255.0  #정규화\n",
        "\n",
        "    flattened_img = []\n",
        "    for i in range(8):\n",
        "        for j in range(8):\n",
        "            flattened_img.append(img[i][j])  #픽셀 값을 리스트에 추가\n",
        "\n",
        "    X.append(flattened_img)  #전처리된 이미지를 X 리스트에 추가\n",
        "\n",
        "predictions = []\n",
        "label=[1, 2, 3]\n",
        "\n",
        "#예측값 계산 및 저장\n",
        "for x in X:\n",
        "    prediction=logisticRegr.predict([x])\n",
        "    predictions.append(prediction)\n",
        "\n",
        "score=logisticRegr.score(X,label)\n",
        "print(\"Predictions =\", predictions)\n",
        "print(\"Accuracy =\", score)"
      ]
    },
    {
      "cell_type": "markdown",
      "metadata": {
        "id": "hTqHtljZyXxI"
      },
      "source": [
        "![3.png](data:image/png;base64,iVBORw0KGgoAAAANSUhEUgAAAAgAAAAICAIAAABLbSncAAAACXBIWXMAAAsTAAALEwEAmpwYAAAGlmlUWHRYTUw6Y29tLmFkb2JlLnhtcAAAAAAAPD94cGFja2V0IGJlZ2luPSLvu78iIGlkPSJXNU0wTXBDZWhpSHpyZVN6TlRjemtjOWQiPz4gPHg6eG1wbWV0YSB4bWxuczp4PSJhZG9iZTpuczptZXRhLyIgeDp4bXB0az0iQWRvYmUgWE1QIENvcmUgNy4xLWMwMDAgNzkuN2E3YTIzNiwgMjAyMS8wOC8xMi0wMDoyNToyMCAgICAgICAgIj4gPHJkZjpSREYgeG1sbnM6cmRmPSJodHRwOi8vd3d3LnczLm9yZy8xOTk5LzAyLzIyLXJkZi1zeW50YXgtbnMjIj4gPHJkZjpEZXNjcmlwdGlvbiByZGY6YWJvdXQ9IiIgeG1sbnM6eG1wPSJodHRwOi8vbnMuYWRvYmUuY29tL3hhcC8xLjAvIiB4bWxuczpkYz0iaHR0cDovL3B1cmwub3JnL2RjL2VsZW1lbnRzLzEuMS8iIHhtbG5zOnhtcE1NPSJodHRwOi8vbnMuYWRvYmUuY29tL3hhcC8xLjAvbW0vIiB4bWxuczpzdEV2dD0iaHR0cDovL25zLmFkb2JlLmNvbS94YXAvMS4wL3NUeXBlL1Jlc291cmNlRXZlbnQjIiB4bWxuczpwaG90b3Nob3A9Imh0dHA6Ly9ucy5hZG9iZS5jb20vcGhvdG9zaG9wLzEuMC8iIHhtcDpDcmVhdG9yVG9vbD0iQWRvYmUgUGhvdG9zaG9wIDIyLjUgKFdpbmRvd3MpIiB4bXA6Q3JlYXRlRGF0ZT0iMjAyMy0xMC0wOVQwMzo1MzozOSswOTowMCIgeG1wOk1ldGFkYXRhRGF0ZT0iMjAyMy0xMC0wOVQwNDowMDoyMiswOTowMCIgeG1wOk1vZGlmeURhdGU9IjIwMjMtMTAtMDlUMDQ6MDA6MjIrMDk6MDAiIGRjOmZvcm1hdD0iaW1hZ2UvcG5nIiB4bXBNTTpJbnN0YW5jZUlEPSJ4bXAuaWlkOjg1ZTI4MDBkLWZkNjAtMDg0NC05ODIwLTQ0MTBjNGFhNDRiZiIgeG1wTU06RG9jdW1lbnRJRD0iYWRvYmU6ZG9jaWQ6cGhvdG9zaG9wOjI5NDMwNjIyLTM4YzktYjA0MC04YWQ4LTI0NDg1OWNmZmU1OCIgeG1wTU06T3JpZ2luYWxEb2N1bWVudElEPSJ4bXAuZGlkOjdiZTBhZWQyLTUxNjEtMTQ0NS05ODc5LTY1N2ExOGVhZTIyNyIgcGhvdG9zaG9wOkNvbG9yTW9kZT0iMyI+IDx4bXBNTTpIaXN0b3J5PiA8cmRmOlNlcT4gPHJkZjpsaSBzdEV2dDphY3Rpb249ImNyZWF0ZWQiIHN0RXZ0Omluc3RhbmNlSUQ9InhtcC5paWQ6N2JlMGFlZDItNTE2MS0xNDQ1LTk4NzktNjU3YTE4ZWFlMjI3IiBzdEV2dDp3aGVuPSIyMDIzLTEwLTA5VDAzOjUzOjM5KzA5OjAwIiBzdEV2dDpzb2Z0d2FyZUFnZW50PSJBZG9iZSBQaG90b3Nob3AgMjIuNSAoV2luZG93cykiLz4gPHJkZjpsaSBzdEV2dDphY3Rpb249InNhdmVkIiBzdEV2dDppbnN0YW5jZUlEPSJ4bXAuaWlkOjM1YjAxY2MyLWUzNTctNDk0Ni1iOGUxLTEzNDFjOWY5Y2E5MCIgc3RFdnQ6d2hlbj0iMjAyMy0xMC0wOVQwNDowMDoyMiswOTowMCIgc3RFdnQ6c29mdHdhcmVBZ2VudD0iQWRvYmUgUGhvdG9zaG9wIDIyLjUgKFdpbmRvd3MpIiBzdEV2dDpjaGFuZ2VkPSIvIi8+IDxyZGY6bGkgc3RFdnQ6YWN0aW9uPSJzYXZlZCIgc3RFdnQ6aW5zdGFuY2VJRD0ieG1wLmlpZDo4NWUyODAwZC1mZDYwLTA4NDQtOTgyMC00NDEwYzRhYTQ0YmYiIHN0RXZ0OndoZW49IjIwMjMtMTAtMDlUMDQ6MDA6MjIrMDk6MDAiIHN0RXZ0OnNvZnR3YXJlQWdlbnQ9IkFkb2JlIFBob3Rvc2hvcCAyMi41IChXaW5kb3dzKSIgc3RFdnQ6Y2hhbmdlZD0iLyIvPiA8L3JkZjpTZXE+IDwveG1wTU06SGlzdG9yeT4gPC9yZGY6RGVzY3JpcHRpb24+IDwvcmRmOlJERj4gPC94OnhtcG1ldGE+IDw/eHBhY2tldCBlbmQ9InIiPz6iqJffAAAAq0lEQVQImS2LoRJFQBhGv737N7NNMGO2aERFY2Zfgeo5PILXUmhUBGPMKttXMARhbzrhnAPGmO/7TdNorZdlybIMAIAfEVVVlaZp13VElCSJEyAiKWWe59M0bdsWx/H/eN9Xa73v+3Vdz/NIKZ3gDtbacRzDMCyKYp5nYwwHwDkXQhzHsa6rUiqKor7vCYDneWVZuiIIgvM8ARCA+74ZY3VdCyGGYWjb1lr7AU4TRF+Xw+NjAAAAAElFTkSuQmCC)![2.png](data:image/png;base64,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)![1.png](data:image/png;base64,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)"
      ]
    },
    {
      "cell_type": "markdown",
      "metadata": {
        "id": "Hj-pl0bxydCY"
      },
      "source": [
        "문제 4>\n",
        "1. [문제2]에서 만든 pandas 데이터에서 임의로 2개 열을 선택한 후 각각을 x, y로 한다. x, y를 코드 3-24을 이용하여 데이터 간의 관계를 시각화하고 결과를 출력하시오."
      ]
    },
    {
      "cell_type": "code",
      "execution_count": null,
      "metadata": {
        "id": "AgT52YwEyblE"
      },
      "outputs": [],
      "source": [
        "import pandas as pd\n",
        "import matplotlib.pyplot as plt\n",
        "\n",
        "#[문제2]에서 생성한 데이터\n",
        "data = [\n",
        "    [10, 20, 30],\n",
        "    [40, 50, 60],\n",
        "    [70, 80, 90],\n",
        "    [15, 25, 35],\n",
        "    [45, 55, 65]\n",
        "]\n",
        "\n",
        "df = pd.DataFrame(data)\n",
        "\n",
        "#x와 y로 선택할 열 지정\n",
        "x_col = df.columns[0]   #첫 번째 열 선택\n",
        "y_col = df.columns[2]   #세 번째 열 선택\n",
        "\n",
        "#데이터 간의 관계 시각화 및 출력\n",
        "df.plot(x=x_col, y=y_col, style='o')\n",
        "plt.title('X vs Y')\n",
        "plt.xlabel(x_col)\n",
        "plt.ylabel(y_col)\n",
        "plt.show()"
      ]
    },
    {
      "cell_type": "markdown",
      "metadata": {
        "id": "r_NigptBygs-"
      },
      "source": [
        "2. 1번 데이터를 이용하여 코드 3-25를 실행한 후 코드 3-27을 이용하여 선형 회귀 예측 결과를 회귀선으로 시각화 하고 결과를 출력하시오. (test_size는 자유롭게 조절 가능함)"
      ]
    },
    {
      "cell_type": "code",
      "execution_count": null,
      "metadata": {
        "id": "Bhy5cCNLye7V"
      },
      "outputs": [],
      "source": [
        "#코드 3-25\n",
        "#데이터를 독립변수와 종속변수로 분리하고 선형회귀모델 생성\n",
        "from sklearn.linear_model import LinearRegression\n",
        "\n",
        "X = df[x_col].values.reshape(-1,1)\n",
        "y = df[y_col].values.reshape(-1,1)\n",
        "\n",
        "#데이터의 55%를 훈련 데이터셋으로, 45%를 검증 데이터셋으로 분할\n",
        "X_train,X_test,y_train,y_test=train_test_split(X,y,test_size=0.45)\n",
        "\n",
        "regressor = LinearRegression() #선형회귀 클래스를 가져옴\n",
        "regressor.fit(X_train,y_train) #fit() 메서드를 사용하여 모델 훈련"
      ]
    },
    {
      "cell_type": "code",
      "execution_count": null,
      "metadata": {
        "id": "7dgFO5UJyqBi"
      },
      "outputs": [],
      "source": [
        "#코드 3-26\n",
        "y_pred = regressor.predict(X_test)\n",
        "df = pd.DataFrame({'Actual': y_test.flatten(), 'Predicted': y_pred.flatten()})\n",
        "df"
      ]
    },
    {
      "cell_type": "code",
      "execution_count": null,
      "metadata": {
        "id": "0bAgGzuPyj0z"
      },
      "outputs": [],
      "source": [
        "#코드 3-27\n",
        "#테스트 데이터셋을 사용한 회귀선 표현\n",
        "plt.scatter(X_test,y_test,color='gray')\n",
        "plt.plot(X_test,y_pred,color='red',linewidth=2)\n",
        "plt.show()"
      ]
    },
    {
      "cell_type": "markdown",
      "metadata": {
        "id": "QcHCgRi_y94V"
      },
      "source": [
        "[#1_Assign(23.10.11)](https://drive.google.com/file/d/18obK5chOFzasPI8mzDFqHyZvMvGm42fU/view?usp=drive_link)"
      ]
    }
  ],
  "metadata": {
    "colab": {
      "provenance": []
    },
    "kernelspec": {
      "display_name": "Python 3",
      "name": "python3"
    },
    "language_info": {
      "name": "python"
    }
  },
  "nbformat": 4,
  "nbformat_minor": 0
}
